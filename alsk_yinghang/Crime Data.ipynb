{
 "cells": [
  {
   "cell_type": "code",
   "execution_count": 3,
   "metadata": {
    "collapsed": true
   },
   "outputs": [],
   "source": [
    "import numpy as np\n",
    "import pandas as pd\n",
    "import datetime\n",
    "import urllib"
   ]
  },
  {
   "cell_type": "code",
   "execution_count": 29,
   "metadata": {
    "collapsed": false
   },
   "outputs": [],
   "source": [
    "df = pd.read_json(\"https://data.cityofboston.gov/resource/29yf-ye7n.json\")"
   ]
  },
  {
   "cell_type": "code",
   "execution_count": 21,
   "metadata": {
    "collapsed": false
   },
   "outputs": [
    {
     "data": {
      "text/html": [
       "<div>\n",
       "<table border=\"1\" class=\"dataframe\">\n",
       "  <thead>\n",
       "    <tr style=\"text-align: right;\">\n",
       "      <th></th>\n",
       "      <th>:@computed_region_aywg_kpfh</th>\n",
       "      <th>day_of_week</th>\n",
       "      <th>district</th>\n",
       "      <th>incident_number</th>\n",
       "      <th>lat</th>\n",
       "      <th>location_2</th>\n",
       "      <th>long</th>\n",
       "      <th>month</th>\n",
       "      <th>occurred_on_date</th>\n",
       "      <th>offense_code</th>\n",
       "      <th>offense_code_group</th>\n",
       "      <th>offense_description</th>\n",
       "      <th>reporting_area</th>\n",
       "      <th>shooting</th>\n",
       "      <th>street</th>\n",
       "      <th>ucr_part</th>\n",
       "      <th>year</th>\n",
       "    </tr>\n",
       "  </thead>\n",
       "  <tbody>\n",
       "    <tr>\n",
       "      <th>0</th>\n",
       "      <td>9663</td>\n",
       "      <td>Saturday</td>\n",
       "      <td>D4</td>\n",
       "      <td>I162065215</td>\n",
       "      <td>42.344396</td>\n",
       "      <td>{'coordinates': [-71.08632016, 42.34439568], '...</td>\n",
       "      <td>-71.086320</td>\n",
       "      <td>8</td>\n",
       "      <td>2016-08-13T13:00:00.000</td>\n",
       "      <td>614</td>\n",
       "      <td>Larceny From Motor Vehicle</td>\n",
       "      <td>LARCENY THEFT FROM MV - NON-ACCESSORY</td>\n",
       "      <td>619</td>\n",
       "      <td>NaN</td>\n",
       "      <td>MASSACHUSETTS AVE</td>\n",
       "      <td>Part One</td>\n",
       "      <td>2016</td>\n",
       "    </tr>\n",
       "    <tr>\n",
       "      <th>1</th>\n",
       "      <td>10061</td>\n",
       "      <td>Wednesday</td>\n",
       "      <td>B2</td>\n",
       "      <td>I162066672</td>\n",
       "      <td>42.314640</td>\n",
       "      <td>{'coordinates': [-71.06833221, 42.3146396], 't...</td>\n",
       "      <td>-71.068332</td>\n",
       "      <td>8</td>\n",
       "      <td>2016-08-17T20:24:00.000</td>\n",
       "      <td>2629</td>\n",
       "      <td>Harassment</td>\n",
       "      <td>HARASSMENT</td>\n",
       "      <td>331</td>\n",
       "      <td>NaN</td>\n",
       "      <td>BIRD ST</td>\n",
       "      <td>Part Two</td>\n",
       "      <td>2016</td>\n",
       "    </tr>\n",
       "    <tr>\n",
       "      <th>2</th>\n",
       "      <td>9657</td>\n",
       "      <td>Tuesday</td>\n",
       "      <td>A1</td>\n",
       "      <td>I162066185</td>\n",
       "      <td>42.357147</td>\n",
       "      <td>{'coordinates': [-71.07042271, 42.35714744], '...</td>\n",
       "      <td>-71.070423</td>\n",
       "      <td>8</td>\n",
       "      <td>2016-08-16T14:01:00.000</td>\n",
       "      <td>3831</td>\n",
       "      <td>Motor Vehicle Accident Response</td>\n",
       "      <td>M/V - LEAVING SCENE - PROPERTY DAMAGE</td>\n",
       "      <td>69</td>\n",
       "      <td>NaN</td>\n",
       "      <td>RIVER ST</td>\n",
       "      <td>Part Three</td>\n",
       "      <td>2016</td>\n",
       "    </tr>\n",
       "    <tr>\n",
       "      <th>3</th>\n",
       "      <td>17239</td>\n",
       "      <td>Sunday</td>\n",
       "      <td>D4</td>\n",
       "      <td>I162065616</td>\n",
       "      <td>42.346079</td>\n",
       "      <td>{'coordinates': [-71.0956684, 42.3460787], 'ty...</td>\n",
       "      <td>-71.095668</td>\n",
       "      <td>8</td>\n",
       "      <td>2016-08-14T20:20:00.000</td>\n",
       "      <td>3115</td>\n",
       "      <td>Investigate Person</td>\n",
       "      <td>INVESTIGATE PERSON</td>\n",
       "      <td>624</td>\n",
       "      <td>NaN</td>\n",
       "      <td>IPSWICH ST</td>\n",
       "      <td>Part Three</td>\n",
       "      <td>2016</td>\n",
       "    </tr>\n",
       "    <tr>\n",
       "      <th>4</th>\n",
       "      <td>NaN</td>\n",
       "      <td>Wednesday</td>\n",
       "      <td>D4</td>\n",
       "      <td>I162030741</td>\n",
       "      <td>NaN</td>\n",
       "      <td>NaN</td>\n",
       "      <td>NaN</td>\n",
       "      <td>4</td>\n",
       "      <td>2016-04-20T16:20:00.000</td>\n",
       "      <td>423</td>\n",
       "      <td>Aggravated Assault</td>\n",
       "      <td>ASSAULT - AGGRAVATED</td>\n",
       "      <td>NaN</td>\n",
       "      <td>NaN</td>\n",
       "      <td>NaN</td>\n",
       "      <td>Part One</td>\n",
       "      <td>2016</td>\n",
       "    </tr>\n",
       "  </tbody>\n",
       "</table>\n",
       "</div>"
      ],
      "text/plain": [
       "   :@computed_region_aywg_kpfh day_of_week district incident_number  \\\n",
       "0                         9663    Saturday       D4      I162065215   \n",
       "1                        10061   Wednesday       B2      I162066672   \n",
       "2                         9657     Tuesday       A1      I162066185   \n",
       "3                        17239      Sunday       D4      I162065616   \n",
       "4                          NaN   Wednesday       D4      I162030741   \n",
       "\n",
       "         lat                                         location_2       long  \\\n",
       "0  42.344396  {'coordinates': [-71.08632016, 42.34439568], '... -71.086320   \n",
       "1  42.314640  {'coordinates': [-71.06833221, 42.3146396], 't... -71.068332   \n",
       "2  42.357147  {'coordinates': [-71.07042271, 42.35714744], '... -71.070423   \n",
       "3  42.346079  {'coordinates': [-71.0956684, 42.3460787], 'ty... -71.095668   \n",
       "4        NaN                                                NaN        NaN   \n",
       "\n",
       "   month         occurred_on_date  offense_code  \\\n",
       "0      8  2016-08-13T13:00:00.000           614   \n",
       "1      8  2016-08-17T20:24:00.000          2629   \n",
       "2      8  2016-08-16T14:01:00.000          3831   \n",
       "3      8  2016-08-14T20:20:00.000          3115   \n",
       "4      4  2016-04-20T16:20:00.000           423   \n",
       "\n",
       "                offense_code_group                    offense_description  \\\n",
       "0       Larceny From Motor Vehicle  LARCENY THEFT FROM MV - NON-ACCESSORY   \n",
       "1                       Harassment                             HARASSMENT   \n",
       "2  Motor Vehicle Accident Response  M/V - LEAVING SCENE - PROPERTY DAMAGE   \n",
       "3               Investigate Person                     INVESTIGATE PERSON   \n",
       "4               Aggravated Assault                   ASSAULT - AGGRAVATED   \n",
       "\n",
       "   reporting_area shooting             street    ucr_part  year  \n",
       "0             619      NaN  MASSACHUSETTS AVE    Part One  2016  \n",
       "1             331      NaN            BIRD ST    Part Two  2016  \n",
       "2              69      NaN           RIVER ST  Part Three  2016  \n",
       "3             624      NaN         IPSWICH ST  Part Three  2016  \n",
       "4             NaN      NaN                NaN    Part One  2016  "
      ]
     },
     "execution_count": 21,
     "metadata": {},
     "output_type": "execute_result"
    }
   ],
   "source": [
    "df.head(5)"
   ]
  },
  {
   "cell_type": "code",
   "execution_count": 30,
   "metadata": {
    "collapsed": false
   },
   "outputs": [
    {
     "data": {
      "text/plain": [
       ":@computed_region_aywg_kpfh    float64\n",
       "day_of_week                     object\n",
       "district                        object\n",
       "incident_number                 object\n",
       "lat                            float64\n",
       "location_2                      object\n",
       "long                           float64\n",
       "month                            int64\n",
       "occurred_on_date                object\n",
       "offense_code                     int64\n",
       "offense_code_group              object\n",
       "offense_description             object\n",
       "reporting_area                 float64\n",
       "shooting                        object\n",
       "street                          object\n",
       "ucr_part                        object\n",
       "year                             int64\n",
       "dtype: object"
      ]
     },
     "execution_count": 30,
     "metadata": {},
     "output_type": "execute_result"
    }
   ],
   "source": [
    "df.dtypes"
   ]
  },
  {
   "cell_type": "code",
   "execution_count": 31,
   "metadata": {
    "collapsed": false
   },
   "outputs": [
    {
     "data": {
      "text/plain": [
       "(125456, 17)"
      ]
     },
     "execution_count": 31,
     "metadata": {},
     "output_type": "execute_result"
    }
   ],
   "source": [
    "df.shape"
   ]
  },
  {
   "cell_type": "code",
   "execution_count": 33,
   "metadata": {
    "collapsed": false
   },
   "outputs": [
    {
     "data": {
      "text/html": [
       "<div>\n",
       "<table border=\"1\" class=\"dataframe\">\n",
       "  <thead>\n",
       "    <tr style=\"text-align: right;\">\n",
       "      <th></th>\n",
       "      <th>:@computed_region_aywg_kpfh</th>\n",
       "      <th>lat</th>\n",
       "      <th>long</th>\n",
       "      <th>month</th>\n",
       "      <th>offense_code</th>\n",
       "      <th>reporting_area</th>\n",
       "      <th>year</th>\n",
       "    </tr>\n",
       "  </thead>\n",
       "  <tbody>\n",
       "    <tr>\n",
       "      <th>count</th>\n",
       "      <td>117891.000000</td>\n",
       "      <td>118951.000000</td>\n",
       "      <td>118951.000000</td>\n",
       "      <td>125456.000000</td>\n",
       "      <td>125456.000000</td>\n",
       "      <td>118814.000000</td>\n",
       "      <td>125456.000000</td>\n",
       "    </tr>\n",
       "    <tr>\n",
       "      <th>mean</th>\n",
       "      <td>10340.961956</td>\n",
       "      <td>42.238063</td>\n",
       "      <td>-70.945971</td>\n",
       "      <td>6.790086</td>\n",
       "      <td>2255.854092</td>\n",
       "      <td>382.498965</td>\n",
       "      <td>2015.574640</td>\n",
       "    </tr>\n",
       "    <tr>\n",
       "      <th>std</th>\n",
       "      <td>1430.512781</td>\n",
       "      <td>1.911664</td>\n",
       "      <td>3.092207</td>\n",
       "      <td>3.069159</td>\n",
       "      <td>1191.726576</td>\n",
       "      <td>242.039682</td>\n",
       "      <td>0.494399</td>\n",
       "    </tr>\n",
       "    <tr>\n",
       "      <th>min</th>\n",
       "      <td>165.000000</td>\n",
       "      <td>-1.000000</td>\n",
       "      <td>-71.178674</td>\n",
       "      <td>1.000000</td>\n",
       "      <td>111.000000</td>\n",
       "      <td>0.000000</td>\n",
       "      <td>2015.000000</td>\n",
       "    </tr>\n",
       "    <tr>\n",
       "      <th>25%</th>\n",
       "      <td>10056.000000</td>\n",
       "      <td>42.297685</td>\n",
       "      <td>-71.096901</td>\n",
       "      <td>5.000000</td>\n",
       "      <td>802.000000</td>\n",
       "      <td>177.000000</td>\n",
       "      <td>2015.000000</td>\n",
       "    </tr>\n",
       "    <tr>\n",
       "      <th>50%</th>\n",
       "      <td>10060.000000</td>\n",
       "      <td>42.325574</td>\n",
       "      <td>-71.077370</td>\n",
       "      <td>7.000000</td>\n",
       "      <td>2660.000000</td>\n",
       "      <td>341.000000</td>\n",
       "      <td>2016.000000</td>\n",
       "    </tr>\n",
       "    <tr>\n",
       "      <th>75%</th>\n",
       "      <td>10064.000000</td>\n",
       "      <td>42.348624</td>\n",
       "      <td>-71.062367</td>\n",
       "      <td>9.000000</td>\n",
       "      <td>3201.000000</td>\n",
       "      <td>546.000000</td>\n",
       "      <td>2016.000000</td>\n",
       "    </tr>\n",
       "    <tr>\n",
       "      <th>max</th>\n",
       "      <td>18637.000000</td>\n",
       "      <td>42.395042</td>\n",
       "      <td>-1.000000</td>\n",
       "      <td>12.000000</td>\n",
       "      <td>3831.000000</td>\n",
       "      <td>962.000000</td>\n",
       "      <td>2016.000000</td>\n",
       "    </tr>\n",
       "  </tbody>\n",
       "</table>\n",
       "</div>"
      ],
      "text/plain": [
       "       :@computed_region_aywg_kpfh            lat           long  \\\n",
       "count                117891.000000  118951.000000  118951.000000   \n",
       "mean                  10340.961956      42.238063     -70.945971   \n",
       "std                    1430.512781       1.911664       3.092207   \n",
       "min                     165.000000      -1.000000     -71.178674   \n",
       "25%                   10056.000000      42.297685     -71.096901   \n",
       "50%                   10060.000000      42.325574     -71.077370   \n",
       "75%                   10064.000000      42.348624     -71.062367   \n",
       "max                   18637.000000      42.395042      -1.000000   \n",
       "\n",
       "               month   offense_code  reporting_area           year  \n",
       "count  125456.000000  125456.000000   118814.000000  125456.000000  \n",
       "mean        6.790086    2255.854092      382.498965    2015.574640  \n",
       "std         3.069159    1191.726576      242.039682       0.494399  \n",
       "min         1.000000     111.000000        0.000000    2015.000000  \n",
       "25%         5.000000     802.000000      177.000000    2015.000000  \n",
       "50%         7.000000    2660.000000      341.000000    2016.000000  \n",
       "75%         9.000000    3201.000000      546.000000    2016.000000  \n",
       "max        12.000000    3831.000000      962.000000    2016.000000  "
      ]
     },
     "execution_count": 33,
     "metadata": {},
     "output_type": "execute_result"
    }
   ],
   "source": [
    "df.describe()"
   ]
  },
  {
   "cell_type": "code",
   "execution_count": 14,
   "metadata": {
    "collapsed": true
   },
   "outputs": [],
   "source": [
    "#lat, long, month, year, occurred_on_date, shooting, offense * 3"
   ]
  },
  {
   "cell_type": "code",
   "execution_count": 34,
   "metadata": {
    "collapsed": false
   },
   "outputs": [],
   "source": [
    "df = df[np.isfinite(df['lat'])]"
   ]
  },
  {
   "cell_type": "code",
   "execution_count": 35,
   "metadata": {
    "collapsed": false
   },
   "outputs": [
    {
     "data": {
      "text/plain": [
       "(118951, 17)"
      ]
     },
     "execution_count": 35,
     "metadata": {},
     "output_type": "execute_result"
    }
   ],
   "source": [
    "df.shape"
   ]
  },
  {
   "cell_type": "code",
   "execution_count": 36,
   "metadata": {
    "collapsed": false
   },
   "outputs": [
    {
     "data": {
      "text/html": [
       "<div>\n",
       "<table border=\"1\" class=\"dataframe\">\n",
       "  <thead>\n",
       "    <tr style=\"text-align: right;\">\n",
       "      <th></th>\n",
       "      <th>:@computed_region_aywg_kpfh</th>\n",
       "      <th>lat</th>\n",
       "      <th>long</th>\n",
       "      <th>month</th>\n",
       "      <th>offense_code</th>\n",
       "      <th>reporting_area</th>\n",
       "      <th>year</th>\n",
       "    </tr>\n",
       "  </thead>\n",
       "  <tbody>\n",
       "    <tr>\n",
       "      <th>count</th>\n",
       "      <td>117891.000000</td>\n",
       "      <td>118951.000000</td>\n",
       "      <td>118951.000000</td>\n",
       "      <td>118951.000000</td>\n",
       "      <td>118951.000000</td>\n",
       "      <td>117763.000000</td>\n",
       "      <td>118951.000000</td>\n",
       "    </tr>\n",
       "    <tr>\n",
       "      <th>mean</th>\n",
       "      <td>10340.961956</td>\n",
       "      <td>42.238063</td>\n",
       "      <td>-70.945971</td>\n",
       "      <td>6.804810</td>\n",
       "      <td>2240.183437</td>\n",
       "      <td>382.876651</td>\n",
       "      <td>2015.569613</td>\n",
       "    </tr>\n",
       "    <tr>\n",
       "      <th>std</th>\n",
       "      <td>1430.512781</td>\n",
       "      <td>1.911664</td>\n",
       "      <td>3.092207</td>\n",
       "      <td>3.069296</td>\n",
       "      <td>1190.589433</td>\n",
       "      <td>242.281467</td>\n",
       "      <td>0.495132</td>\n",
       "    </tr>\n",
       "    <tr>\n",
       "      <th>min</th>\n",
       "      <td>165.000000</td>\n",
       "      <td>-1.000000</td>\n",
       "      <td>-71.178674</td>\n",
       "      <td>1.000000</td>\n",
       "      <td>111.000000</td>\n",
       "      <td>1.000000</td>\n",
       "      <td>2015.000000</td>\n",
       "    </tr>\n",
       "    <tr>\n",
       "      <th>25%</th>\n",
       "      <td>10056.000000</td>\n",
       "      <td>42.297685</td>\n",
       "      <td>-71.096901</td>\n",
       "      <td>5.000000</td>\n",
       "      <td>802.000000</td>\n",
       "      <td>177.000000</td>\n",
       "      <td>2015.000000</td>\n",
       "    </tr>\n",
       "    <tr>\n",
       "      <th>50%</th>\n",
       "      <td>10060.000000</td>\n",
       "      <td>42.325574</td>\n",
       "      <td>-71.077370</td>\n",
       "      <td>7.000000</td>\n",
       "      <td>2647.000000</td>\n",
       "      <td>341.000000</td>\n",
       "      <td>2016.000000</td>\n",
       "    </tr>\n",
       "    <tr>\n",
       "      <th>75%</th>\n",
       "      <td>10064.000000</td>\n",
       "      <td>42.348624</td>\n",
       "      <td>-71.062367</td>\n",
       "      <td>9.000000</td>\n",
       "      <td>3170.000000</td>\n",
       "      <td>549.000000</td>\n",
       "      <td>2016.000000</td>\n",
       "    </tr>\n",
       "    <tr>\n",
       "      <th>max</th>\n",
       "      <td>18637.000000</td>\n",
       "      <td>42.395042</td>\n",
       "      <td>-1.000000</td>\n",
       "      <td>12.000000</td>\n",
       "      <td>3831.000000</td>\n",
       "      <td>962.000000</td>\n",
       "      <td>2016.000000</td>\n",
       "    </tr>\n",
       "  </tbody>\n",
       "</table>\n",
       "</div>"
      ],
      "text/plain": [
       "       :@computed_region_aywg_kpfh            lat           long  \\\n",
       "count                117891.000000  118951.000000  118951.000000   \n",
       "mean                  10340.961956      42.238063     -70.945971   \n",
       "std                    1430.512781       1.911664       3.092207   \n",
       "min                     165.000000      -1.000000     -71.178674   \n",
       "25%                   10056.000000      42.297685     -71.096901   \n",
       "50%                   10060.000000      42.325574     -71.077370   \n",
       "75%                   10064.000000      42.348624     -71.062367   \n",
       "max                   18637.000000      42.395042      -1.000000   \n",
       "\n",
       "               month   offense_code  reporting_area           year  \n",
       "count  118951.000000  118951.000000   117763.000000  118951.000000  \n",
       "mean        6.804810    2240.183437      382.876651    2015.569613  \n",
       "std         3.069296    1190.589433      242.281467       0.495132  \n",
       "min         1.000000     111.000000        1.000000    2015.000000  \n",
       "25%         5.000000     802.000000      177.000000    2015.000000  \n",
       "50%         7.000000    2647.000000      341.000000    2016.000000  \n",
       "75%         9.000000    3170.000000      549.000000    2016.000000  \n",
       "max        12.000000    3831.000000      962.000000    2016.000000  "
      ]
     },
     "execution_count": 36,
     "metadata": {},
     "output_type": "execute_result"
    }
   ],
   "source": [
    "df.describe()"
   ]
  },
  {
   "cell_type": "code",
   "execution_count": 38,
   "metadata": {
    "collapsed": false
   },
   "outputs": [],
   "source": [
    "df = df[df['lat'] != -1]"
   ]
  },
  {
   "cell_type": "code",
   "execution_count": 39,
   "metadata": {
    "collapsed": false
   },
   "outputs": [
    {
     "data": {
      "text/html": [
       "<div>\n",
       "<table border=\"1\" class=\"dataframe\">\n",
       "  <thead>\n",
       "    <tr style=\"text-align: right;\">\n",
       "      <th></th>\n",
       "      <th>:@computed_region_aywg_kpfh</th>\n",
       "      <th>lat</th>\n",
       "      <th>long</th>\n",
       "      <th>month</th>\n",
       "      <th>offense_code</th>\n",
       "      <th>reporting_area</th>\n",
       "      <th>year</th>\n",
       "    </tr>\n",
       "  </thead>\n",
       "  <tbody>\n",
       "    <tr>\n",
       "      <th>count</th>\n",
       "      <td>117891.000000</td>\n",
       "      <td>118719.000000</td>\n",
       "      <td>118719.000000</td>\n",
       "      <td>118719.000000</td>\n",
       "      <td>118719.000000</td>\n",
       "      <td>117737.000000</td>\n",
       "      <td>118719.000000</td>\n",
       "    </tr>\n",
       "    <tr>\n",
       "      <th>mean</th>\n",
       "      <td>10340.961956</td>\n",
       "      <td>42.322559</td>\n",
       "      <td>-71.082659</td>\n",
       "      <td>6.803932</td>\n",
       "      <td>2240.003732</td>\n",
       "      <td>382.808149</td>\n",
       "      <td>2015.569109</td>\n",
       "    </tr>\n",
       "    <tr>\n",
       "      <th>std</th>\n",
       "      <td>1430.512781</td>\n",
       "      <td>0.031712</td>\n",
       "      <td>0.029797</td>\n",
       "      <td>3.070900</td>\n",
       "      <td>1190.712961</td>\n",
       "      <td>242.235401</td>\n",
       "      <td>0.495203</td>\n",
       "    </tr>\n",
       "    <tr>\n",
       "      <th>min</th>\n",
       "      <td>165.000000</td>\n",
       "      <td>42.232413</td>\n",
       "      <td>-71.178674</td>\n",
       "      <td>1.000000</td>\n",
       "      <td>111.000000</td>\n",
       "      <td>1.000000</td>\n",
       "      <td>2015.000000</td>\n",
       "    </tr>\n",
       "    <tr>\n",
       "      <th>25%</th>\n",
       "      <td>10056.000000</td>\n",
       "      <td>42.297977</td>\n",
       "      <td>-71.096989</td>\n",
       "      <td>5.000000</td>\n",
       "      <td>802.000000</td>\n",
       "      <td>177.000000</td>\n",
       "      <td>2015.000000</td>\n",
       "    </tr>\n",
       "    <tr>\n",
       "      <th>50%</th>\n",
       "      <td>10060.000000</td>\n",
       "      <td>42.325653</td>\n",
       "      <td>-71.077405</td>\n",
       "      <td>7.000000</td>\n",
       "      <td>2647.000000</td>\n",
       "      <td>341.000000</td>\n",
       "      <td>2016.000000</td>\n",
       "    </tr>\n",
       "    <tr>\n",
       "      <th>75%</th>\n",
       "      <td>10064.000000</td>\n",
       "      <td>42.348665</td>\n",
       "      <td>-71.062495</td>\n",
       "      <td>9.000000</td>\n",
       "      <td>3170.000000</td>\n",
       "      <td>549.000000</td>\n",
       "      <td>2016.000000</td>\n",
       "    </tr>\n",
       "    <tr>\n",
       "      <th>max</th>\n",
       "      <td>18637.000000</td>\n",
       "      <td>42.395042</td>\n",
       "      <td>-70.963676</td>\n",
       "      <td>12.000000</td>\n",
       "      <td>3831.000000</td>\n",
       "      <td>962.000000</td>\n",
       "      <td>2016.000000</td>\n",
       "    </tr>\n",
       "  </tbody>\n",
       "</table>\n",
       "</div>"
      ],
      "text/plain": [
       "       :@computed_region_aywg_kpfh            lat           long  \\\n",
       "count                117891.000000  118719.000000  118719.000000   \n",
       "mean                  10340.961956      42.322559     -71.082659   \n",
       "std                    1430.512781       0.031712       0.029797   \n",
       "min                     165.000000      42.232413     -71.178674   \n",
       "25%                   10056.000000      42.297977     -71.096989   \n",
       "50%                   10060.000000      42.325653     -71.077405   \n",
       "75%                   10064.000000      42.348665     -71.062495   \n",
       "max                   18637.000000      42.395042     -70.963676   \n",
       "\n",
       "               month   offense_code  reporting_area           year  \n",
       "count  118719.000000  118719.000000   117737.000000  118719.000000  \n",
       "mean        6.803932    2240.003732      382.808149    2015.569109  \n",
       "std         3.070900    1190.712961      242.235401       0.495203  \n",
       "min         1.000000     111.000000        1.000000    2015.000000  \n",
       "25%         5.000000     802.000000      177.000000    2015.000000  \n",
       "50%         7.000000    2647.000000      341.000000    2016.000000  \n",
       "75%         9.000000    3170.000000      549.000000    2016.000000  \n",
       "max        12.000000    3831.000000      962.000000    2016.000000  "
      ]
     },
     "execution_count": 39,
     "metadata": {},
     "output_type": "execute_result"
    }
   ],
   "source": [
    "df.describe()"
   ]
  },
  {
   "cell_type": "code",
   "execution_count": 41,
   "metadata": {
    "collapsed": false
   },
   "outputs": [
    {
     "data": {
      "text/plain": [
       "(118719, 17)"
      ]
     },
     "execution_count": 41,
     "metadata": {},
     "output_type": "execute_result"
    }
   ],
   "source": [
    "df.shape"
   ]
  },
  {
   "cell_type": "code",
   "execution_count": null,
   "metadata": {
    "collapsed": true
   },
   "outputs": [],
   "source": []
  }
 ],
 "metadata": {
  "kernelspec": {
   "display_name": "Python 3",
   "language": "python",
   "name": "python3"
  },
  "language_info": {
   "codemirror_mode": {
    "name": "ipython",
    "version": 3
   },
   "file_extension": ".py",
   "mimetype": "text/x-python",
   "name": "python",
   "nbconvert_exporter": "python",
   "pygments_lexer": "ipython3",
   "version": "3.5.1"
  }
 },
 "nbformat": 4,
 "nbformat_minor": 0
}
