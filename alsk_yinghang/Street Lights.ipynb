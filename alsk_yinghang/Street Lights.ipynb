{
 "cells": [
  {
   "cell_type": "code",
   "execution_count": 1,
   "metadata": {
    "collapsed": true
   },
   "outputs": [],
   "source": [
    "import numpy as np\n",
    "import pandas as pd\n",
    "import datetime\n",
    "import urllib"
   ]
  },
  {
   "cell_type": "code",
   "execution_count": 2,
   "metadata": {
    "collapsed": true
   },
   "outputs": [],
   "source": [
    "df = pd.read_json(\"https://data.cityofboston.gov/resource/fbdp-b7et.json\")"
   ]
  },
  {
   "cell_type": "code",
   "execution_count": 3,
   "metadata": {
    "collapsed": false
   },
   "outputs": [
    {
     "data": {
      "text/html": [
       "<div>\n",
       "<table border=\"1\" class=\"dataframe\">\n",
       "  <thead>\n",
       "    <tr style=\"text-align: right;\">\n",
       "      <th></th>\n",
       "      <th>lat</th>\n",
       "      <th>long</th>\n",
       "      <th>objectid</th>\n",
       "      <th>the_geom</th>\n",
       "      <th>type</th>\n",
       "    </tr>\n",
       "  </thead>\n",
       "  <tbody>\n",
       "    <tr>\n",
       "      <th>0</th>\n",
       "      <td>42.353159</td>\n",
       "      <td>-71.076044</td>\n",
       "      <td>1</td>\n",
       "      <td>{'type': 'Point', 'coordinates': [-71.07604438...</td>\n",
       "      <td>LIGHT</td>\n",
       "    </tr>\n",
       "    <tr>\n",
       "      <th>1</th>\n",
       "      <td>42.353348</td>\n",
       "      <td>-71.075382</td>\n",
       "      <td>2</td>\n",
       "      <td>{'type': 'Point', 'coordinates': [-71.07538171...</td>\n",
       "      <td>LIGHT</td>\n",
       "    </tr>\n",
       "    <tr>\n",
       "      <th>2</th>\n",
       "      <td>42.353521</td>\n",
       "      <td>-71.074775</td>\n",
       "      <td>3</td>\n",
       "      <td>{'type': 'Point', 'coordinates': [-71.07477488...</td>\n",
       "      <td>LIGHT</td>\n",
       "    </tr>\n",
       "    <tr>\n",
       "      <th>3</th>\n",
       "      <td>42.353556</td>\n",
       "      <td>-71.074404</td>\n",
       "      <td>4</td>\n",
       "      <td>{'type': 'Point', 'coordinates': [-71.07440373...</td>\n",
       "      <td>LIGHT</td>\n",
       "    </tr>\n",
       "    <tr>\n",
       "      <th>4</th>\n",
       "      <td>42.353811</td>\n",
       "      <td>-71.073621</td>\n",
       "      <td>5</td>\n",
       "      <td>{'type': 'Point', 'coordinates': [-71.07362079...</td>\n",
       "      <td>LIGHT</td>\n",
       "    </tr>\n",
       "  </tbody>\n",
       "</table>\n",
       "</div>"
      ],
      "text/plain": [
       "         lat       long  objectid  \\\n",
       "0  42.353159 -71.076044         1   \n",
       "1  42.353348 -71.075382         2   \n",
       "2  42.353521 -71.074775         3   \n",
       "3  42.353556 -71.074404         4   \n",
       "4  42.353811 -71.073621         5   \n",
       "\n",
       "                                            the_geom   type  \n",
       "0  {'type': 'Point', 'coordinates': [-71.07604438...  LIGHT  \n",
       "1  {'type': 'Point', 'coordinates': [-71.07538171...  LIGHT  \n",
       "2  {'type': 'Point', 'coordinates': [-71.07477488...  LIGHT  \n",
       "3  {'type': 'Point', 'coordinates': [-71.07440373...  LIGHT  \n",
       "4  {'type': 'Point', 'coordinates': [-71.07362079...  LIGHT  "
      ]
     },
     "execution_count": 3,
     "metadata": {},
     "output_type": "execute_result"
    }
   ],
   "source": [
    "df.head(5)"
   ]
  },
  {
   "cell_type": "code",
   "execution_count": 4,
   "metadata": {
    "collapsed": false
   },
   "outputs": [
    {
     "data": {
      "text/plain": [
       "lat         float64\n",
       "long        float64\n",
       "objectid      int64\n",
       "the_geom     object\n",
       "type         object\n",
       "dtype: object"
      ]
     },
     "execution_count": 4,
     "metadata": {},
     "output_type": "execute_result"
    }
   ],
   "source": [
    "df.dtypes"
   ]
  },
  {
   "cell_type": "code",
   "execution_count": 6,
   "metadata": {
    "collapsed": false
   },
   "outputs": [
    {
     "data": {
      "text/plain": [
       "(74065, 5)"
      ]
     },
     "execution_count": 6,
     "metadata": {},
     "output_type": "execute_result"
    }
   ],
   "source": [
    "df.shape"
   ]
  },
  {
   "cell_type": "code",
   "execution_count": null,
   "metadata": {
    "collapsed": true
   },
   "outputs": [],
   "source": []
  }
 ],
 "metadata": {
  "kernelspec": {
   "display_name": "Python 3",
   "language": "python",
   "name": "python3"
  },
  "language_info": {
   "codemirror_mode": {
    "name": "ipython",
    "version": 3
   },
   "file_extension": ".py",
   "mimetype": "text/x-python",
   "name": "python",
   "nbconvert_exporter": "python",
   "pygments_lexer": "ipython3",
   "version": "3.5.1"
  }
 },
 "nbformat": 4,
 "nbformat_minor": 0
}
