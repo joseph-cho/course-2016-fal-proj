{
 "cells": [
  {
   "cell_type": "code",
   "execution_count": 24,
   "metadata": {
    "collapsed": true
   },
   "outputs": [],
   "source": [
    "import numpy as np\n",
    "import pandas as pd\n",
    "import datetime\n",
    "import urllib"
   ]
  },
  {
   "cell_type": "code",
   "execution_count": 40,
   "metadata": {
    "collapsed": true
   },
   "outputs": [],
   "source": [
    "df = pd.read_json(\"https://data.cityofboston.gov/resource/pyxn-r3i2.json\")"
   ]
  },
  {
   "cell_type": "code",
   "execution_count": 41,
   "metadata": {
    "collapsed": false
   },
   "outputs": [
    {
     "data": {
      "text/html": [
       "<div>\n",
       "<table border=\"1\" class=\"dataframe\">\n",
       "  <thead>\n",
       "    <tr style=\"text-align: right;\">\n",
       "      <th></th>\n",
       "      <th>:@computed_region_aywg_kpfh</th>\n",
       "      <th>centroidx</th>\n",
       "      <th>centroidy</th>\n",
       "      <th>ftsqft</th>\n",
       "      <th>location</th>\n",
       "      <th>location_location</th>\n",
       "      <th>location_zip</th>\n",
       "      <th>name</th>\n",
       "    </tr>\n",
       "  </thead>\n",
       "  <tbody>\n",
       "    <tr>\n",
       "      <th>0</th>\n",
       "      <td>10062</td>\n",
       "      <td>-71.0917</td>\n",
       "      <td>42.2847</td>\n",
       "      <td>9740</td>\n",
       "      <td>{'type': 'Point', 'coordinates': [-71.09420999...</td>\n",
       "      <td>1165 Blue Hill Avenue</td>\n",
       "      <td>2126</td>\n",
       "      <td>District B-3 Police Station</td>\n",
       "    </tr>\n",
       "    <tr>\n",
       "      <th>1</th>\n",
       "      <td>10063</td>\n",
       "      <td>-71.0500</td>\n",
       "      <td>42.3392</td>\n",
       "      <td>8528</td>\n",
       "      <td>{'type': 'Point', 'coordinates': [-71.05493637...</td>\n",
       "      <td>101 West Broadway</td>\n",
       "      <td>2127</td>\n",
       "      <td>District C-6 Police Station</td>\n",
       "    </tr>\n",
       "    <tr>\n",
       "      <th>2</th>\n",
       "      <td>10064</td>\n",
       "      <td>-71.0386</td>\n",
       "      <td>42.3711</td>\n",
       "      <td>5063</td>\n",
       "      <td>{'type': 'Point', 'coordinates': [-71.03891371...</td>\n",
       "      <td>69 Paris Street</td>\n",
       "      <td>2128</td>\n",
       "      <td>District A-7 Police Station</td>\n",
       "    </tr>\n",
       "    <tr>\n",
       "      <th>3</th>\n",
       "      <td>10646</td>\n",
       "      <td>-71.1505</td>\n",
       "      <td>42.3494</td>\n",
       "      <td>8712</td>\n",
       "      <td>{'type': 'Point', 'coordinates': [-71.15066920...</td>\n",
       "      <td>301 Washington Street</td>\n",
       "      <td>2135</td>\n",
       "      <td>District D-14 Police Station</td>\n",
       "    </tr>\n",
       "    <tr>\n",
       "      <th>4</th>\n",
       "      <td>9662</td>\n",
       "      <td>-71.0603</td>\n",
       "      <td>42.3618</td>\n",
       "      <td>6882</td>\n",
       "      <td>{'type': 'Point', 'coordinates': [-71.06016143...</td>\n",
       "      <td>40 New Sudbury Street</td>\n",
       "      <td>2114</td>\n",
       "      <td>District A-1 Police Station</td>\n",
       "    </tr>\n",
       "  </tbody>\n",
       "</table>\n",
       "</div>"
      ],
      "text/plain": [
       "   :@computed_region_aywg_kpfh  centroidx  centroidy  ftsqft  \\\n",
       "0                        10062   -71.0917    42.2847    9740   \n",
       "1                        10063   -71.0500    42.3392    8528   \n",
       "2                        10064   -71.0386    42.3711    5063   \n",
       "3                        10646   -71.1505    42.3494    8712   \n",
       "4                         9662   -71.0603    42.3618    6882   \n",
       "\n",
       "                                            location      location_location  \\\n",
       "0  {'type': 'Point', 'coordinates': [-71.09420999...  1165 Blue Hill Avenue   \n",
       "1  {'type': 'Point', 'coordinates': [-71.05493637...      101 West Broadway   \n",
       "2  {'type': 'Point', 'coordinates': [-71.03891371...        69 Paris Street   \n",
       "3  {'type': 'Point', 'coordinates': [-71.15066920...  301 Washington Street   \n",
       "4  {'type': 'Point', 'coordinates': [-71.06016143...  40 New Sudbury Street   \n",
       "\n",
       "   location_zip                          name  \n",
       "0          2126   District B-3 Police Station  \n",
       "1          2127   District C-6 Police Station  \n",
       "2          2128   District A-7 Police Station  \n",
       "3          2135  District D-14 Police Station  \n",
       "4          2114   District A-1 Police Station  "
      ]
     },
     "execution_count": 41,
     "metadata": {},
     "output_type": "execute_result"
    }
   ],
   "source": [
    "df.head(5)"
   ]
  },
  {
   "cell_type": "code",
   "execution_count": 42,
   "metadata": {
    "collapsed": true
   },
   "outputs": [],
   "source": [
    "df = df[['location_zip', 'name', 'location']]"
   ]
  },
  {
   "cell_type": "code",
   "execution_count": 43,
   "metadata": {
    "collapsed": false
   },
   "outputs": [
    {
     "data": {
      "text/plain": [
       "'[{\"location_zip\":2126,\"name\":\"District B-3 Police Station\",\"location\":{\"type\":\"Point\",\"coordinates\":[-71.09421,42.27328]}},{\"location_zip\":2127,\"name\":\"District C-6 Police Station\",\"location\":{\"type\":\"Point\",\"coordinates\":[-71.0549363768,42.3414236603]}},{\"location_zip\":2128,\"name\":\"District A-7 Police Station\",\"location\":{\"type\":\"Point\",\"coordinates\":[-71.0389137159,42.3711056341]}},{\"location_zip\":2135,\"name\":\"District D-14 Police Station\",\"location\":{\"type\":\"Point\",\"coordinates\":[-71.1506692069,42.3490139382]}},{\"location_zip\":2114,\"name\":\"District A-1 Police Station\",\"location\":{\"type\":\"Point\",\"coordinates\":[-71.0601614378,42.3615954534]}},{\"location_zip\":2130,\"name\":\"District E-13 Police Station\",\"location\":{\"type\":\"Point\",\"coordinates\":[-71.1044080817,42.3096326266]}},{\"location_zip\":2116,\"name\":\"District D-4 Police\",\"location\":{\"type\":\"Point\",\"coordinates\":[-71.0753699999,42.3503200004]}},{\"location_zip\":2136,\"name\":\"District E-18 Police Station\",\"location\":{\"type\":\"Point\",\"coordinates\":[-71.1240233216,42.2564381412]}},{\"location_zip\":2119,\"name\":\"District B-2 Police Station\",\"location\":{\"type\":\"Point\",\"coordinates\":[-71.0841823292,42.32871624]}},{\"location_zip\":2132,\"name\":\"District E-5 Police Station\",\"location\":{\"type\":\"Point\",\"coordinates\":[-71.1485675479,42.2870949477]}},{\"location_zip\":2120,\"name\":\"Boston Police Headquarters\",\"location\":{\"type\":\"Point\",\"coordinates\":[-71.089636838,42.3345075085]}},{\"location_zip\":2122,\"name\":\"District C-11 Police Station\",\"location\":{\"type\":\"Point\",\"coordinates\":[-71.059115077,42.2977711358]}}]'"
      ]
     },
     "execution_count": 43,
     "metadata": {},
     "output_type": "execute_result"
    }
   ],
   "source": [
    "df.to_json(orient='records')"
   ]
  },
  {
   "cell_type": "code",
   "execution_count": 27,
   "metadata": {
    "collapsed": false
   },
   "outputs": [
    {
     "data": {
      "text/plain": [
       "(12, 8)"
      ]
     },
     "execution_count": 27,
     "metadata": {},
     "output_type": "execute_result"
    }
   ],
   "source": [
    "df.shape"
   ]
  },
  {
   "cell_type": "code",
   "execution_count": 28,
   "metadata": {
    "collapsed": false
   },
   "outputs": [
    {
     "data": {
      "text/plain": [
       ":@computed_region_aywg_kpfh      int64\n",
       "centroidx                      float64\n",
       "centroidy                      float64\n",
       "ftsqft                           int64\n",
       "location                        object\n",
       "location_location               object\n",
       "location_zip                     int64\n",
       "name                            object\n",
       "dtype: object"
      ]
     },
     "execution_count": 28,
     "metadata": {},
     "output_type": "execute_result"
    }
   ],
   "source": [
    "df.dtypes"
   ]
  },
  {
   "cell_type": "code",
   "execution_count": 29,
   "metadata": {
    "collapsed": false
   },
   "outputs": [
    {
     "data": {
      "text/html": [
       "<div>\n",
       "<table border=\"1\" class=\"dataframe\">\n",
       "  <thead>\n",
       "    <tr style=\"text-align: right;\">\n",
       "      <th></th>\n",
       "      <th>:@computed_region_aywg_kpfh</th>\n",
       "      <th>centroidx</th>\n",
       "      <th>centroidy</th>\n",
       "      <th>ftsqft</th>\n",
       "      <th>location</th>\n",
       "      <th>location_location</th>\n",
       "      <th>location_zip</th>\n",
       "      <th>name</th>\n",
       "    </tr>\n",
       "  </thead>\n",
       "  <tbody>\n",
       "    <tr>\n",
       "      <th>0</th>\n",
       "      <td>10062</td>\n",
       "      <td>-71.0917</td>\n",
       "      <td>42.2847</td>\n",
       "      <td>9740</td>\n",
       "      <td>{'type': 'Point', 'coordinates': [-71.09420999...</td>\n",
       "      <td>1165 Blue Hill Avenue</td>\n",
       "      <td>2126</td>\n",
       "      <td>District B-3 Police Station</td>\n",
       "    </tr>\n",
       "    <tr>\n",
       "      <th>1</th>\n",
       "      <td>10063</td>\n",
       "      <td>-71.0500</td>\n",
       "      <td>42.3392</td>\n",
       "      <td>8528</td>\n",
       "      <td>{'type': 'Point', 'coordinates': [-71.05493637...</td>\n",
       "      <td>101 West Broadway</td>\n",
       "      <td>2127</td>\n",
       "      <td>District C-6 Police Station</td>\n",
       "    </tr>\n",
       "    <tr>\n",
       "      <th>2</th>\n",
       "      <td>10064</td>\n",
       "      <td>-71.0386</td>\n",
       "      <td>42.3711</td>\n",
       "      <td>5063</td>\n",
       "      <td>{'type': 'Point', 'coordinates': [-71.03891371...</td>\n",
       "      <td>69 Paris Street</td>\n",
       "      <td>2128</td>\n",
       "      <td>District A-7 Police Station</td>\n",
       "    </tr>\n",
       "    <tr>\n",
       "      <th>3</th>\n",
       "      <td>10646</td>\n",
       "      <td>-71.1505</td>\n",
       "      <td>42.3494</td>\n",
       "      <td>8712</td>\n",
       "      <td>{'type': 'Point', 'coordinates': [-71.15066920...</td>\n",
       "      <td>301 Washington Street</td>\n",
       "      <td>2135</td>\n",
       "      <td>District D-14 Police Station</td>\n",
       "    </tr>\n",
       "    <tr>\n",
       "      <th>4</th>\n",
       "      <td>9662</td>\n",
       "      <td>-71.0603</td>\n",
       "      <td>42.3618</td>\n",
       "      <td>6882</td>\n",
       "      <td>{'type': 'Point', 'coordinates': [-71.06016143...</td>\n",
       "      <td>40 New Sudbury Street</td>\n",
       "      <td>2114</td>\n",
       "      <td>District A-1 Police Station</td>\n",
       "    </tr>\n",
       "    <tr>\n",
       "      <th>5</th>\n",
       "      <td>10066</td>\n",
       "      <td>-71.1046</td>\n",
       "      <td>42.3097</td>\n",
       "      <td>8312</td>\n",
       "      <td>{'type': 'Point', 'coordinates': [-71.10440808...</td>\n",
       "      <td>3345 Washington Street</td>\n",
       "      <td>2130</td>\n",
       "      <td>District E-13 Police Station</td>\n",
       "    </tr>\n",
       "    <tr>\n",
       "      <th>6</th>\n",
       "      <td>10054</td>\n",
       "      <td>-71.0707</td>\n",
       "      <td>42.3456</td>\n",
       "      <td>12382</td>\n",
       "      <td>{'type': 'Point', 'coordinates': [-71.07536999...</td>\n",
       "      <td>650 Harrison Avenue</td>\n",
       "      <td>2116</td>\n",
       "      <td>District D-4 Police</td>\n",
       "    </tr>\n",
       "    <tr>\n",
       "      <th>7</th>\n",
       "      <td>10647</td>\n",
       "      <td>-71.1243</td>\n",
       "      <td>42.2565</td>\n",
       "      <td>8585</td>\n",
       "      <td>{'type': 'Point', 'coordinates': [-71.12402332...</td>\n",
       "      <td>1249 Hyde Park Avenue</td>\n",
       "      <td>2136</td>\n",
       "      <td>District E-18 Police Station</td>\n",
       "    </tr>\n",
       "    <tr>\n",
       "      <th>8</th>\n",
       "      <td>10056</td>\n",
       "      <td>-71.0841</td>\n",
       "      <td>42.3283</td>\n",
       "      <td>10809</td>\n",
       "      <td>{'type': 'Point', 'coordinates': [-71.08418232...</td>\n",
       "      <td>135 Dudley Street</td>\n",
       "      <td>2119</td>\n",
       "      <td>District B-2 Police Station</td>\n",
       "    </tr>\n",
       "    <tr>\n",
       "      <th>9</th>\n",
       "      <td>10068</td>\n",
       "      <td>-71.1484</td>\n",
       "      <td>42.2868</td>\n",
       "      <td>0</td>\n",
       "      <td>{'type': 'Point', 'coordinates': [-71.14856754...</td>\n",
       "      <td>1708 Centre Street</td>\n",
       "      <td>2132</td>\n",
       "      <td>District E-5 Police Station</td>\n",
       "    </tr>\n",
       "    <tr>\n",
       "      <th>10</th>\n",
       "      <td>10057</td>\n",
       "      <td>-71.0908</td>\n",
       "      <td>42.3341</td>\n",
       "      <td>194000</td>\n",
       "      <td>{'type': 'Point', 'coordinates': [-71.08963683...</td>\n",
       "      <td>One Schroeder Plaza</td>\n",
       "      <td>2120</td>\n",
       "      <td>Boston Police Headquarters</td>\n",
       "    </tr>\n",
       "    <tr>\n",
       "      <th>11</th>\n",
       "      <td>10059</td>\n",
       "      <td>-71.0592</td>\n",
       "      <td>42.2981</td>\n",
       "      <td>15338</td>\n",
       "      <td>{'type': 'Point', 'coordinates': [-71.05911507...</td>\n",
       "      <td>40 Gibson Street</td>\n",
       "      <td>2122</td>\n",
       "      <td>District C-11 Police Station</td>\n",
       "    </tr>\n",
       "  </tbody>\n",
       "</table>\n",
       "</div>"
      ],
      "text/plain": [
       "    :@computed_region_aywg_kpfh  centroidx  centroidy  ftsqft  \\\n",
       "0                         10062   -71.0917    42.2847    9740   \n",
       "1                         10063   -71.0500    42.3392    8528   \n",
       "2                         10064   -71.0386    42.3711    5063   \n",
       "3                         10646   -71.1505    42.3494    8712   \n",
       "4                          9662   -71.0603    42.3618    6882   \n",
       "5                         10066   -71.1046    42.3097    8312   \n",
       "6                         10054   -71.0707    42.3456   12382   \n",
       "7                         10647   -71.1243    42.2565    8585   \n",
       "8                         10056   -71.0841    42.3283   10809   \n",
       "9                         10068   -71.1484    42.2868       0   \n",
       "10                        10057   -71.0908    42.3341  194000   \n",
       "11                        10059   -71.0592    42.2981   15338   \n",
       "\n",
       "                                             location       location_location  \\\n",
       "0   {'type': 'Point', 'coordinates': [-71.09420999...   1165 Blue Hill Avenue   \n",
       "1   {'type': 'Point', 'coordinates': [-71.05493637...       101 West Broadway   \n",
       "2   {'type': 'Point', 'coordinates': [-71.03891371...         69 Paris Street   \n",
       "3   {'type': 'Point', 'coordinates': [-71.15066920...   301 Washington Street   \n",
       "4   {'type': 'Point', 'coordinates': [-71.06016143...   40 New Sudbury Street   \n",
       "5   {'type': 'Point', 'coordinates': [-71.10440808...  3345 Washington Street   \n",
       "6   {'type': 'Point', 'coordinates': [-71.07536999...     650 Harrison Avenue   \n",
       "7   {'type': 'Point', 'coordinates': [-71.12402332...   1249 Hyde Park Avenue   \n",
       "8   {'type': 'Point', 'coordinates': [-71.08418232...       135 Dudley Street   \n",
       "9   {'type': 'Point', 'coordinates': [-71.14856754...      1708 Centre Street   \n",
       "10  {'type': 'Point', 'coordinates': [-71.08963683...     One Schroeder Plaza   \n",
       "11  {'type': 'Point', 'coordinates': [-71.05911507...        40 Gibson Street   \n",
       "\n",
       "    location_zip                          name  \n",
       "0           2126   District B-3 Police Station  \n",
       "1           2127   District C-6 Police Station  \n",
       "2           2128   District A-7 Police Station  \n",
       "3           2135  District D-14 Police Station  \n",
       "4           2114   District A-1 Police Station  \n",
       "5           2130  District E-13 Police Station  \n",
       "6           2116           District D-4 Police  \n",
       "7           2136  District E-18 Police Station  \n",
       "8           2119   District B-2 Police Station  \n",
       "9           2132   District E-5 Police Station  \n",
       "10          2120    Boston Police Headquarters  \n",
       "11          2122  District C-11 Police Station  "
      ]
     },
     "execution_count": 29,
     "metadata": {},
     "output_type": "execute_result"
    }
   ],
   "source": [
    "df"
   ]
  },
  {
   "cell_type": "code",
   "execution_count": 30,
   "metadata": {
    "collapsed": false
   },
   "outputs": [],
   "source": [
    "zip = df[['location_zip', 'name', 'location']]"
   ]
  },
  {
   "cell_type": "code",
   "execution_count": 31,
   "metadata": {
    "collapsed": false
   },
   "outputs": [
    {
     "data": {
      "text/html": [
       "<div>\n",
       "<table border=\"1\" class=\"dataframe\">\n",
       "  <thead>\n",
       "    <tr style=\"text-align: right;\">\n",
       "      <th></th>\n",
       "      <th>location_zip</th>\n",
       "      <th>name</th>\n",
       "      <th>location</th>\n",
       "    </tr>\n",
       "  </thead>\n",
       "  <tbody>\n",
       "    <tr>\n",
       "      <th>0</th>\n",
       "      <td>2126</td>\n",
       "      <td>District B-3 Police Station</td>\n",
       "      <td>{'type': 'Point', 'coordinates': [-71.09420999...</td>\n",
       "    </tr>\n",
       "    <tr>\n",
       "      <th>1</th>\n",
       "      <td>2127</td>\n",
       "      <td>District C-6 Police Station</td>\n",
       "      <td>{'type': 'Point', 'coordinates': [-71.05493637...</td>\n",
       "    </tr>\n",
       "    <tr>\n",
       "      <th>2</th>\n",
       "      <td>2128</td>\n",
       "      <td>District A-7 Police Station</td>\n",
       "      <td>{'type': 'Point', 'coordinates': [-71.03891371...</td>\n",
       "    </tr>\n",
       "    <tr>\n",
       "      <th>3</th>\n",
       "      <td>2135</td>\n",
       "      <td>District D-14 Police Station</td>\n",
       "      <td>{'type': 'Point', 'coordinates': [-71.15066920...</td>\n",
       "    </tr>\n",
       "    <tr>\n",
       "      <th>4</th>\n",
       "      <td>2114</td>\n",
       "      <td>District A-1 Police Station</td>\n",
       "      <td>{'type': 'Point', 'coordinates': [-71.06016143...</td>\n",
       "    </tr>\n",
       "    <tr>\n",
       "      <th>5</th>\n",
       "      <td>2130</td>\n",
       "      <td>District E-13 Police Station</td>\n",
       "      <td>{'type': 'Point', 'coordinates': [-71.10440808...</td>\n",
       "    </tr>\n",
       "    <tr>\n",
       "      <th>6</th>\n",
       "      <td>2116</td>\n",
       "      <td>District D-4 Police</td>\n",
       "      <td>{'type': 'Point', 'coordinates': [-71.07536999...</td>\n",
       "    </tr>\n",
       "    <tr>\n",
       "      <th>7</th>\n",
       "      <td>2136</td>\n",
       "      <td>District E-18 Police Station</td>\n",
       "      <td>{'type': 'Point', 'coordinates': [-71.12402332...</td>\n",
       "    </tr>\n",
       "    <tr>\n",
       "      <th>8</th>\n",
       "      <td>2119</td>\n",
       "      <td>District B-2 Police Station</td>\n",
       "      <td>{'type': 'Point', 'coordinates': [-71.08418232...</td>\n",
       "    </tr>\n",
       "    <tr>\n",
       "      <th>9</th>\n",
       "      <td>2132</td>\n",
       "      <td>District E-5 Police Station</td>\n",
       "      <td>{'type': 'Point', 'coordinates': [-71.14856754...</td>\n",
       "    </tr>\n",
       "    <tr>\n",
       "      <th>10</th>\n",
       "      <td>2120</td>\n",
       "      <td>Boston Police Headquarters</td>\n",
       "      <td>{'type': 'Point', 'coordinates': [-71.08963683...</td>\n",
       "    </tr>\n",
       "    <tr>\n",
       "      <th>11</th>\n",
       "      <td>2122</td>\n",
       "      <td>District C-11 Police Station</td>\n",
       "      <td>{'type': 'Point', 'coordinates': [-71.05911507...</td>\n",
       "    </tr>\n",
       "  </tbody>\n",
       "</table>\n",
       "</div>"
      ],
      "text/plain": [
       "    location_zip                          name  \\\n",
       "0           2126   District B-3 Police Station   \n",
       "1           2127   District C-6 Police Station   \n",
       "2           2128   District A-7 Police Station   \n",
       "3           2135  District D-14 Police Station   \n",
       "4           2114   District A-1 Police Station   \n",
       "5           2130  District E-13 Police Station   \n",
       "6           2116           District D-4 Police   \n",
       "7           2136  District E-18 Police Station   \n",
       "8           2119   District B-2 Police Station   \n",
       "9           2132   District E-5 Police Station   \n",
       "10          2120    Boston Police Headquarters   \n",
       "11          2122  District C-11 Police Station   \n",
       "\n",
       "                                             location  \n",
       "0   {'type': 'Point', 'coordinates': [-71.09420999...  \n",
       "1   {'type': 'Point', 'coordinates': [-71.05493637...  \n",
       "2   {'type': 'Point', 'coordinates': [-71.03891371...  \n",
       "3   {'type': 'Point', 'coordinates': [-71.15066920...  \n",
       "4   {'type': 'Point', 'coordinates': [-71.06016143...  \n",
       "5   {'type': 'Point', 'coordinates': [-71.10440808...  \n",
       "6   {'type': 'Point', 'coordinates': [-71.07536999...  \n",
       "7   {'type': 'Point', 'coordinates': [-71.12402332...  \n",
       "8   {'type': 'Point', 'coordinates': [-71.08418232...  \n",
       "9   {'type': 'Point', 'coordinates': [-71.14856754...  \n",
       "10  {'type': 'Point', 'coordinates': [-71.08963683...  \n",
       "11  {'type': 'Point', 'coordinates': [-71.05911507...  "
      ]
     },
     "execution_count": 31,
     "metadata": {},
     "output_type": "execute_result"
    }
   ],
   "source": [
    "zip"
   ]
  },
  {
   "cell_type": "code",
   "execution_count": 36,
   "metadata": {
    "collapsed": false
   },
   "outputs": [],
   "source": [
    "lat = []\n",
    "long = []\n",
    "for row in zip['location']:\n",
    "    lat.append(row['coordinates'][1])\n",
    "    long.append(row['coordinates'][0])\n",
    "df['lat'] = lat\n",
    "df['long'] = long"
   ]
  },
  {
   "cell_type": "code",
   "execution_count": 14,
   "metadata": {
    "collapsed": false
   },
   "outputs": [
    {
     "data": {
      "text/plain": [
       "'[{\"location_zip\":2126,\"name\":\"District B-3 Police Station\",\"location\":{\"type\":\"Point\",\"coordinates\":[-71.09421,42.27328]}},{\"location_zip\":2127,\"name\":\"District C-6 Police Station\",\"location\":{\"type\":\"Point\",\"coordinates\":[-71.0549363768,42.3414236603]}},{\"location_zip\":2128,\"name\":\"District A-7 Police Station\",\"location\":{\"type\":\"Point\",\"coordinates\":[-71.0389137159,42.3711056341]}},{\"location_zip\":2135,\"name\":\"District D-14 Police Station\",\"location\":{\"type\":\"Point\",\"coordinates\":[-71.1506692069,42.3490139382]}},{\"location_zip\":2114,\"name\":\"District A-1 Police Station\",\"location\":{\"type\":\"Point\",\"coordinates\":[-71.0601614378,42.3615954534]}},{\"location_zip\":2130,\"name\":\"District E-13 Police Station\",\"location\":{\"type\":\"Point\",\"coordinates\":[-71.1044080817,42.3096326266]}},{\"location_zip\":2116,\"name\":\"District D-4 Police\",\"location\":{\"type\":\"Point\",\"coordinates\":[-71.0753699999,42.3503200004]}},{\"location_zip\":2136,\"name\":\"District E-18 Police Station\",\"location\":{\"type\":\"Point\",\"coordinates\":[-71.1240233216,42.2564381412]}},{\"location_zip\":2119,\"name\":\"District B-2 Police Station\",\"location\":{\"type\":\"Point\",\"coordinates\":[-71.0841823292,42.32871624]}},{\"location_zip\":2132,\"name\":\"District E-5 Police Station\",\"location\":{\"type\":\"Point\",\"coordinates\":[-71.1485675479,42.2870949477]}},{\"location_zip\":2120,\"name\":\"Boston Police Headquarters\",\"location\":{\"type\":\"Point\",\"coordinates\":[-71.089636838,42.3345075085]}},{\"location_zip\":2122,\"name\":\"District C-11 Police Station\",\"location\":{\"type\":\"Point\",\"coordinates\":[-71.059115077,42.2977711358]}}]'"
      ]
     },
     "execution_count": 14,
     "metadata": {},
     "output_type": "execute_result"
    }
   ],
   "source": [
    "zip.to_json(orient='records')"
   ]
  },
  {
   "cell_type": "code",
   "execution_count": 37,
   "metadata": {
    "collapsed": false
   },
   "outputs": [],
   "source": [
    "new = df[['location_zip', 'lat', 'long', 'name']]"
   ]
  },
  {
   "cell_type": "code",
   "execution_count": 38,
   "metadata": {
    "collapsed": false
   },
   "outputs": [
    {
     "data": {
      "text/html": [
       "<div>\n",
       "<table border=\"1\" class=\"dataframe\">\n",
       "  <thead>\n",
       "    <tr style=\"text-align: right;\">\n",
       "      <th></th>\n",
       "      <th>location_zip</th>\n",
       "      <th>lat</th>\n",
       "      <th>long</th>\n",
       "      <th>name</th>\n",
       "    </tr>\n",
       "  </thead>\n",
       "  <tbody>\n",
       "    <tr>\n",
       "      <th>0</th>\n",
       "      <td>2126</td>\n",
       "      <td>42.273280</td>\n",
       "      <td>-71.094210</td>\n",
       "      <td>District B-3 Police Station</td>\n",
       "    </tr>\n",
       "    <tr>\n",
       "      <th>1</th>\n",
       "      <td>2127</td>\n",
       "      <td>42.341424</td>\n",
       "      <td>-71.054936</td>\n",
       "      <td>District C-6 Police Station</td>\n",
       "    </tr>\n",
       "    <tr>\n",
       "      <th>2</th>\n",
       "      <td>2128</td>\n",
       "      <td>42.371106</td>\n",
       "      <td>-71.038914</td>\n",
       "      <td>District A-7 Police Station</td>\n",
       "    </tr>\n",
       "    <tr>\n",
       "      <th>3</th>\n",
       "      <td>2135</td>\n",
       "      <td>42.349014</td>\n",
       "      <td>-71.150669</td>\n",
       "      <td>District D-14 Police Station</td>\n",
       "    </tr>\n",
       "    <tr>\n",
       "      <th>4</th>\n",
       "      <td>2114</td>\n",
       "      <td>42.361595</td>\n",
       "      <td>-71.060161</td>\n",
       "      <td>District A-1 Police Station</td>\n",
       "    </tr>\n",
       "    <tr>\n",
       "      <th>5</th>\n",
       "      <td>2130</td>\n",
       "      <td>42.309633</td>\n",
       "      <td>-71.104408</td>\n",
       "      <td>District E-13 Police Station</td>\n",
       "    </tr>\n",
       "    <tr>\n",
       "      <th>6</th>\n",
       "      <td>2116</td>\n",
       "      <td>42.350320</td>\n",
       "      <td>-71.075370</td>\n",
       "      <td>District D-4 Police</td>\n",
       "    </tr>\n",
       "    <tr>\n",
       "      <th>7</th>\n",
       "      <td>2136</td>\n",
       "      <td>42.256438</td>\n",
       "      <td>-71.124023</td>\n",
       "      <td>District E-18 Police Station</td>\n",
       "    </tr>\n",
       "    <tr>\n",
       "      <th>8</th>\n",
       "      <td>2119</td>\n",
       "      <td>42.328716</td>\n",
       "      <td>-71.084182</td>\n",
       "      <td>District B-2 Police Station</td>\n",
       "    </tr>\n",
       "    <tr>\n",
       "      <th>9</th>\n",
       "      <td>2132</td>\n",
       "      <td>42.287095</td>\n",
       "      <td>-71.148568</td>\n",
       "      <td>District E-5 Police Station</td>\n",
       "    </tr>\n",
       "    <tr>\n",
       "      <th>10</th>\n",
       "      <td>2120</td>\n",
       "      <td>42.334508</td>\n",
       "      <td>-71.089637</td>\n",
       "      <td>Boston Police Headquarters</td>\n",
       "    </tr>\n",
       "    <tr>\n",
       "      <th>11</th>\n",
       "      <td>2122</td>\n",
       "      <td>42.297771</td>\n",
       "      <td>-71.059115</td>\n",
       "      <td>District C-11 Police Station</td>\n",
       "    </tr>\n",
       "  </tbody>\n",
       "</table>\n",
       "</div>"
      ],
      "text/plain": [
       "    location_zip        lat       long                          name\n",
       "0           2126  42.273280 -71.094210   District B-3 Police Station\n",
       "1           2127  42.341424 -71.054936   District C-6 Police Station\n",
       "2           2128  42.371106 -71.038914   District A-7 Police Station\n",
       "3           2135  42.349014 -71.150669  District D-14 Police Station\n",
       "4           2114  42.361595 -71.060161   District A-1 Police Station\n",
       "5           2130  42.309633 -71.104408  District E-13 Police Station\n",
       "6           2116  42.350320 -71.075370           District D-4 Police\n",
       "7           2136  42.256438 -71.124023  District E-18 Police Station\n",
       "8           2119  42.328716 -71.084182   District B-2 Police Station\n",
       "9           2132  42.287095 -71.148568   District E-5 Police Station\n",
       "10          2120  42.334508 -71.089637    Boston Police Headquarters\n",
       "11          2122  42.297771 -71.059115  District C-11 Police Station"
      ]
     },
     "execution_count": 38,
     "metadata": {},
     "output_type": "execute_result"
    }
   ],
   "source": [
    "new"
   ]
  },
  {
   "cell_type": "code",
   "execution_count": 39,
   "metadata": {
    "collapsed": false
   },
   "outputs": [
    {
     "data": {
      "text/plain": [
       "'[{\"location_zip\":2126,\"lat\":42.27328,\"long\":-71.09421,\"name\":\"District B-3 Police Station\"},{\"location_zip\":2127,\"lat\":42.3414236603,\"long\":-71.0549363768,\"name\":\"District C-6 Police Station\"},{\"location_zip\":2128,\"lat\":42.3711056341,\"long\":-71.0389137159,\"name\":\"District A-7 Police Station\"},{\"location_zip\":2135,\"lat\":42.3490139382,\"long\":-71.1506692069,\"name\":\"District D-14 Police Station\"},{\"location_zip\":2114,\"lat\":42.3615954534,\"long\":-71.0601614378,\"name\":\"District A-1 Police Station\"},{\"location_zip\":2130,\"lat\":42.3096326266,\"long\":-71.1044080817,\"name\":\"District E-13 Police Station\"},{\"location_zip\":2116,\"lat\":42.3503200004,\"long\":-71.0753699999,\"name\":\"District D-4 Police\"},{\"location_zip\":2136,\"lat\":42.2564381412,\"long\":-71.1240233216,\"name\":\"District E-18 Police Station\"},{\"location_zip\":2119,\"lat\":42.32871624,\"long\":-71.0841823292,\"name\":\"District B-2 Police Station\"},{\"location_zip\":2132,\"lat\":42.2870949477,\"long\":-71.1485675479,\"name\":\"District E-5 Police Station\"},{\"location_zip\":2120,\"lat\":42.3345075085,\"long\":-71.089636838,\"name\":\"Boston Police Headquarters\"},{\"location_zip\":2122,\"lat\":42.2977711358,\"long\":-71.059115077,\"name\":\"District C-11 Police Station\"}]'"
      ]
     },
     "execution_count": 39,
     "metadata": {},
     "output_type": "execute_result"
    }
   ],
   "source": [
    "new.to_json(orient='records')"
   ]
  },
  {
   "cell_type": "code",
   "execution_count": null,
   "metadata": {
    "collapsed": true
   },
   "outputs": [],
   "source": []
  }
 ],
 "metadata": {
  "kernelspec": {
   "display_name": "Python 3",
   "language": "python",
   "name": "python3"
  },
  "language_info": {
   "codemirror_mode": {
    "name": "ipython",
    "version": 3
   },
   "file_extension": ".py",
   "mimetype": "text/x-python",
   "name": "python",
   "nbconvert_exporter": "python",
   "pygments_lexer": "ipython3",
   "version": "3.5.1"
  }
 },
 "nbformat": 4,
 "nbformat_minor": 0
}
